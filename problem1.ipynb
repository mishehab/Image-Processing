{
 "cells": [
  {
   "cell_type": "code",
   "execution_count": 41,
   "metadata": {},
   "outputs": [],
   "source": [
    "import os\n",
    "import cv2\n",
    "import numpy as np"
   ]
  },
  {
   "cell_type": "code",
   "execution_count": 44,
   "metadata": {},
   "outputs": [],
   "source": [
    "def enhance_image(image):\n",
    "    height, width = image.shape[:2]\n",
    "    left_half = image[:, :width // 2]\n",
    "\n",
    "    clahe = cv2.createCLAHE(clipLimit=2.5, tileGridSize=(8, 8))\n",
    "    image_clahe = cv2.cvtColor(left_half, cv2.COLOR_BGR2LAB)\n",
    "    image_clahe[:, :, 0] = clahe.apply(image_clahe[:, :, 0])  \n",
    "    image_clahe = cv2.cvtColor(image_clahe, cv2.COLOR_LAB2BGR)\n",
    "\n",
    "    gamma = 1.3  \n",
    "    look_up_table = np.array([((i / 255.0) ** (1.0 / gamma)) * 255 for i in np.arange(0, 256)]).astype(\"uint8\")\n",
    "    image_gamma_corrected = cv2.LUT(image_clahe, look_up_table)\n",
    "\n",
    "    alpha = 1.2 \n",
    "    beta = 15    \n",
    "    image_dehazed = cv2.convertScaleAbs(image_gamma_corrected, alpha=alpha, beta=beta)\n",
    "\n",
    "    denoised_image = cv2.fastNlMeansDenoisingColored(image_dehazed, None, h=10, templateWindowSize=7, searchWindowSize=21)\n",
    "\n",
    "    denoised_image_rgb = cv2.cvtColor(denoised_image, cv2.COLOR_BGR2RGB)\n",
    "\n",
    "    return denoised_image_rgb\n"
   ]
  },
  {
   "cell_type": "code",
   "execution_count": 46,
   "metadata": {},
   "outputs": [],
   "source": [
    "def detect_edges(image):\n",
    "    height, width = image.shape[:2]\n",
    "    left_half = image[:, :width // 2]\n",
    "\n",
    "    gray_image = cv2.cvtColor(left_half, cv2.COLOR_BGR2GRAY)\n",
    "    blurred_image = cv2.GaussianBlur(gray_image, (5, 5), 0)\n",
    "    edges = cv2.Canny(blurred_image, threshold1=50, threshold2=150)\n",
    "\n",
    "    dilated_edges = cv2.dilate(edges, None, iterations=1)\n",
    "    eroded_edges = cv2.erode(dilated_edges, None, iterations=1)\n",
    "\n",
    "    lines = cv2.HoughLinesP(eroded_edges, 1, np.pi / 180, threshold=100, minLineLength=50, maxLineGap=10)\n",
    "    line_image = np.zeros_like(left_half)\n",
    "\n",
    "    if lines is not None:\n",
    "        for line in lines:\n",
    "            x1, y1, x2, y2 = line[0]\n",
    "            cv2.line(line_image, (x1, y1), (x2, y2), (255, 0, 0), 2)\n",
    "\n",
    "    contours, _ = cv2.findContours(eroded_edges, cv2.RETR_TREE, cv2.CHAIN_APPROX_SIMPLE)\n",
    "    contour_image = left_half.copy()\n",
    "    cv2.drawContours(contour_image, contours, -1, (0, 255, 0), 2)\n",
    "\n",
    "    combined_output = cv2.addWeighted(left_half, 0.7, line_image, 1, 0)\n",
    "    combined_output = cv2.addWeighted(combined_output, 0.7, contour_image, 0.3, 0)\n",
    "\n",
    "    final_image = Image.fromarray(cv2.cvtColor(combined_output, cv2.COLOR_BGR2RGB))\n",
    "\n",
    "    return final_image"
   ]
  },
  {
   "cell_type": "code",
   "execution_count": 47,
   "metadata": {},
   "outputs": [],
   "source": [
    "def reduce_noise(image):\n",
    "    height, width = image.shape[:2]\n",
    "    left_half = image[:, :width // 2]\n",
    "\n",
    "    gaussian_blurred = cv2.GaussianBlur(left_half, (5, 5), 0)\n",
    "    bilateral_filtered = cv2.bilateralFilter(gaussian_blurred, d=9, sigmaColor=75, sigmaSpace=75)\n",
    "    denoised_image = cv2.fastNlMeansDenoisingColored(bilateral_filtered, None, h=10, templateWindowSize=7, searchWindowSize=21)\n",
    "\n",
    "    sharpening_kernel = np.array([[-1, -1, -1],\n",
    "                                [-1, 9, -1],\n",
    "                                [-1, -1, -1]])\n",
    "    sharpened_image = cv2.filter2D(denoised_image, -1, sharpening_kernel)\n",
    "    final_image_rgb = cv2.cvtColor(sharpened_image, cv2.COLOR_BGR2RGB)\n",
    "\n",
    "    return final_image_rgb\n"
   ]
  },
  {
   "cell_type": "code",
   "execution_count": null,
   "metadata": {},
   "outputs": [],
   "source": [
    "import cv2\n",
    "import os\n",
    "import numpy as np\n",
    "from PIL import Image  \n",
    "\n",
    "def process_images(image_dir, output_dir):\n",
    "    enhanced_dir = os.path.join(output_dir, \"enhanced\")\n",
    "    edges_dir = os.path.join(output_dir, \"edges\")\n",
    "    noise_reduced_dir = os.path.join(output_dir, \"noise_reduced\")\n",
    "    \n",
    "    os.makedirs(enhanced_dir, exist_ok=True)\n",
    "    os.makedirs(edges_dir, exist_ok=True)\n",
    "    os.makedirs(noise_reduced_dir, exist_ok=True)\n",
    "    \n",
    "    for img_file in os.listdir(image_dir):\n",
    "        if img_file.endswith(\".png\") or img_file.endswith(\".jpg\"):\n",
    "            image_path = os.path.join(image_dir, img_file)\n",
    "            image = cv2.imread(image_path)\n",
    "            \n",
    "            enhanced_image = enhance_image(image)\n",
    "            edges_image = detect_edges(image)\n",
    "            noise_reduced_image = reduce_noise(image)\n",
    "            \n",
    "            if isinstance(edges_image, Image.Image):\n",
    "                edges_image = np.array(edges_image)  \n",
    "\n",
    "            \n",
    "            cv2.imwrite(os.path.join(enhanced_dir, f\"enhanced_{img_file}\"), enhanced_image)\n",
    "            cv2.imwrite(os.path.join(edges_dir, f\"edges_{img_file}\"), edges_image)\n",
    "            cv2.imwrite(os.path.join(noise_reduced_dir, f\"noise_reduced_{img_file}\"), noise_reduced_image)\n",
    "\n",
    "image_dir = \"C:\\\\Users\\\\User\\\\OneDrive\\\\Documents\\\\Computer vision with DL\\\\image processing exam\\\\cityscapes-image-pairs\\\\cityscapes_data\\\\train\"  \n",
    "output_dir = \"C:\\\\Users\\\\User\\\\OneDrive\\\\Documents\\\\Computer vision with DL\\\\image processing exam\\\\Output Image\"  \n",
    "\n",
    "process_images(image_dir, output_dir)\n"
   ]
  }
 ],
 "metadata": {
  "kernelspec": {
   "display_name": "venv",
   "language": "python",
   "name": "python3"
  },
  "language_info": {
   "codemirror_mode": {
    "name": "ipython",
    "version": 3
   },
   "file_extension": ".py",
   "mimetype": "text/x-python",
   "name": "python",
   "nbconvert_exporter": "python",
   "pygments_lexer": "ipython3",
   "version": "3.12.6"
  }
 },
 "nbformat": 4,
 "nbformat_minor": 2
}
